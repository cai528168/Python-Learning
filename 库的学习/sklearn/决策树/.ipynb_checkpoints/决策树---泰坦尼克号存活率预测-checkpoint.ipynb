{
 "cells": [
  {
   "cell_type": "code",
   "execution_count": 1,
   "id": "ef88fc2b",
   "metadata": {},
   "outputs": [
    {
     "name": "stdout",
     "output_type": "stream",
     "text": [
      "              precision    recall  f1-score   support\n",
      "\n",
      "           0       0.84      0.88      0.86       549\n",
      "           1       0.79      0.73      0.76       342\n",
      "\n",
      "    accuracy                           0.82       891\n",
      "   macro avg       0.82      0.81      0.81       891\n",
      "weighted avg       0.82      0.82      0.82       891\n",
      "\n"
     ]
    },
    {
     "data": {
      "text/plain": [
       "'Source.gv.pdf'"
      ]
     },
     "execution_count": 1,
     "metadata": {},
     "output_type": "execute_result"
    }
   ],
   "source": [
    "import pandas as pd\n",
    "from sklearn.tree import DecisionTreeClassifier, export_graphviz\n",
    "from sklearn.metrics import classification_report\n",
    "import graphviz\n",
    "data = pd.read_csv('titanic_data.csv')\n",
    "\n",
    "# 数据预处理\n",
    "# 删除PassengerId列\n",
    "data.drop('PassengerId', axis=1, inplace=True)\n",
    "\n",
    "# 将离散化数据性别处理为连续性数据即0、1代替性别表示\n",
    "data.loc[data['Sex'] == 'male', 'Sex'] = 1\n",
    "data.loc[data['Sex'] == 'female', 'Sex'] = 0\n",
    "\n",
    "# 将缺失的年龄进行填充（inplace直接在本上数据上进行修改而不重新生成新的数据）\n",
    "data.fillna(data['Age'].mean(), inplace=True)\n",
    "\n",
    "# 模型的构建与预测\n",
    "\n",
    "# 构建决策树模型\n",
    "Dtc = DecisionTreeClassifier(max_depth=5, random_state=8)\n",
    "# 模型训练\n",
    "Dtc.fit(data.iloc[:, 1:], data['Survived'])\n",
    "# 模型预测\n",
    "pre = Dtc.predict(data.iloc[:, 1:])\n",
    "# 判断模型精度\n",
    "# print(pre == data['Survived'])\n",
    "print(classification_report(data['Survived'], pre))\n",
    "\n",
    "# 决策树可视化\n",
    "dot_data = export_graphviz(Dtc, feature_names=['Pclass', 'Sex', 'Age'], class_names='Survived')\n",
    "graph = graphviz.Source(dot_data)\n",
    "graph.view()\n"
   ]
  },
  {
   "cell_type": "code",
   "execution_count": null,
   "id": "f111e25c",
   "metadata": {},
   "outputs": [],
   "source": []
  }
 ],
 "metadata": {
  "kernelspec": {
   "display_name": "Python 3 (ipykernel)",
   "language": "python",
   "name": "python3"
  },
  "language_info": {
   "codemirror_mode": {
    "name": "ipython",
    "version": 3
   },
   "file_extension": ".py",
   "mimetype": "text/x-python",
   "name": "python",
   "nbconvert_exporter": "python",
   "pygments_lexer": "ipython3",
   "version": "3.10.9"
  }
 },
 "nbformat": 4,
 "nbformat_minor": 5
}
